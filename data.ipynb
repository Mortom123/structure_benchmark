{
 "cells": [
  {
   "cell_type": "code",
   "execution_count": 15,
   "metadata": {
    "collapsed": true,
    "pycharm": {
     "name": "#%%\n"
    }
   },
   "outputs": [],
   "source": [
    "import pandas as pd\n",
    "import os\n",
    "import shutil\n",
    "import pathlib"
   ]
  },
  {
   "cell_type": "code",
   "execution_count": 38,
   "outputs": [],
   "source": [
    "lengths = pd.read_csv(\"scope_lengths.csv\")\n",
    "lengths[\"pdb_id\"] = lengths[\"name\"].apply(lambda a: os.path.join(r\"G:\\code\\ss_ml\\scp40pdb\\pdb\", a))\n",
    "lengths = lengths[lengths[\"pdb_id\"].apply(os.path.exists)]\n",
    "\n",
    "lengths[\"lengths_mean_dist\"] = (lengths[\"length\"] - lengths[\"length\"].mean()).abs()\n",
    "center_lengths = lengths.sort_values(\"lengths_mean_dist\", ascending=True).iloc[:200]"
   ],
   "metadata": {
    "collapsed": false,
    "pycharm": {
     "name": "#%%\n"
    }
   }
  },
  {
   "cell_type": "code",
   "execution_count": 43,
   "outputs": [],
   "source": [
    "for name in center_lengths[\"name\"]:\n",
    "    path = os.path.join(r\"G:\\code\\ss_ml\\scp40pdb\\pdb\", name)\n",
    "    shutil.copy(path, path+\".pdb\")\n",
    "center_lengths[\"pdb_id\"] = center_lengths[\"name\"].apply(lambda a: os.path.join(r\"G:\\code\\ss_ml\\scp40pdb\\pdb\", a+\".pdb\"))"
   ],
   "metadata": {
    "collapsed": false,
    "pycharm": {
     "name": "#%%\n"
    }
   }
  },
  {
   "cell_type": "code",
   "execution_count": 44,
   "outputs": [],
   "source": [
    "source = center_lengths.iloc[::2]\n",
    "target = center_lengths.iloc[1::2]"
   ],
   "metadata": {
    "collapsed": false,
    "pycharm": {
     "name": "#%%\n"
    }
   }
  },
  {
   "cell_type": "code",
   "execution_count": 45,
   "outputs": [],
   "source": [
    "source.index.name = \"index\"\n",
    "source.to_csv(\"source.csv\")"
   ],
   "metadata": {
    "collapsed": false,
    "pycharm": {
     "name": "#%%\n"
    }
   }
  },
  {
   "cell_type": "code",
   "execution_count": 46,
   "outputs": [],
   "source": [
    "target.index.name = \"index\"\n",
    "target.to_csv(\"target.csv\")"
   ],
   "metadata": {
    "collapsed": false,
    "pycharm": {
     "name": "#%%\n"
    }
   }
  },
  {
   "cell_type": "code",
   "execution_count": null,
   "outputs": [],
   "source": [],
   "metadata": {
    "collapsed": false,
    "pycharm": {
     "name": "#%%\n"
    }
   }
  }
 ],
 "metadata": {
  "kernelspec": {
   "display_name": "Python 3",
   "language": "python",
   "name": "python3"
  },
  "language_info": {
   "codemirror_mode": {
    "name": "ipython",
    "version": 2
   },
   "file_extension": ".py",
   "mimetype": "text/x-python",
   "name": "python",
   "nbconvert_exporter": "python",
   "pygments_lexer": "ipython2",
   "version": "2.7.6"
  }
 },
 "nbformat": 4,
 "nbformat_minor": 0
}