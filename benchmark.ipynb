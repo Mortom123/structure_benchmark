{
 "cells": [
  {
   "cell_type": "code",
   "execution_count": 92,
   "outputs": [],
   "source": [
    "import random\n",
    "\n",
    "import pandas as pd\n",
    "import time\n",
    "import random\n",
    "import subprocess\n",
    "import io\n",
    "import numpy as np"
   ],
   "metadata": {
    "collapsed": false,
    "pycharm": {
     "name": "#%%\n"
    }
   }
  },
  {
   "cell_type": "code",
   "execution_count": 16,
   "outputs": [],
   "source": [
    "source = pd.read_csv(\"source.csv\", index_col=0)\n",
    "target = pd.read_csv(\"target.csv\", index_col=0)"
   ],
   "metadata": {
    "collapsed": false,
    "pycharm": {
     "name": "#%%\n"
    }
   }
  },
  {
   "cell_type": "code",
   "execution_count": 115,
   "outputs": [],
   "source": [
    "import pymol.cmd as cmd\n",
    "\n",
    "def run_aln_cmd(command, row_source, row_target, fast=False):\n",
    "    command.append(row_source[\"pdb_id\"])\n",
    "    command.append(row_target[\"pdb_id\"])\n",
    "    command.append(\"-outfmt\")\n",
    "    command.append(\"2\")\n",
    "\n",
    "    if fast:\n",
    "        command.append(\"-fast\")\n",
    "\n",
    "    p = subprocess.Popen(command, stdout=subprocess.PIPE, stderr=subprocess.PIPE)\n",
    "    output, err  = p.communicate()\n",
    "    p.terminate()\n",
    "    output = pd.read_csv(io.BytesIO(output), sep=\"\\t\").iloc[0]\n",
    "\n",
    "    return output[\"RMSD\"], output[\"Lali\"]\n",
    "\n",
    "def align_tm(row_source, row_target):\n",
    "    command = [\"./structure_alignment_algorithms/TMAlign.exe\"]\n",
    "    return run_aln_cmd(command, row_source, row_target)\n",
    "\n",
    "\n",
    "def align_tm_fast(row_source, row_target):\n",
    "    command = [\"./structure_alignment_algorithms/TMAlign.exe\"]\n",
    "    return run_aln_cmd(command, row_source, row_target, True)\n",
    "\n",
    "\n",
    "def align_us(row_source, row_target):\n",
    "    command = [\"./structure_alignment_algorithms/USAlign.exe\"]\n",
    "    return run_aln_cmd(command, row_source, row_target)\n",
    "\n",
    "def align_us_fast(row_source, row_target):\n",
    "    command = [\"./structure_alignment_algorithms/USAlign.exe\"]\n",
    "    return run_aln_cmd(command, row_source, row_target, True)\n",
    "\n",
    "def align_pymol(row_source, row_target):\n",
    "    cmd.reinitialize()\n",
    "    cmd.load(row_source[\"pdb_id\"], \"prot1\")\n",
    "    cmd.load(row_target[\"pdb_id\"], \"prot2\")\n",
    "    ce_dict = cmd.cealign(\"prot1\", \"prot2\")\n",
    "    cmd.delete(\"prot1\")\n",
    "    cmd.delete(\"prot2\")\n",
    "    return ce_dict[\"RMSD\"], ce_dict[\"alignment_length\"]\n",
    "\n",
    "def time_it(fn):\n",
    "    start = time.time()\n",
    "    ret = fn()\n",
    "    end = time.time()\n",
    "    return ret, end-start"
   ],
   "metadata": {
    "collapsed": false,
    "pycharm": {
     "name": "#%%\n"
    }
   }
  },
  {
   "cell_type": "code",
   "execution_count": 117,
   "outputs": [],
   "source": [
    "num = 100\n",
    "samples = [(random.choice(range(len(source.index))), random.choice(range(len(target.index)))) for _ in range(num)]\n",
    "\n",
    "rets = {}\n",
    "times = {}\n",
    "for fn in [align_pymol, align_tm, align_tm_fast, align_us, align_us_fast]:\n",
    "    ts = times.setdefault(fn, [])\n",
    "    returns = rets.setdefault(fn, [])\n",
    "\n",
    "    for i1, i2 in samples:\n",
    "        r1 = source.iloc[i1]\n",
    "        r2 = source.iloc[i2]\n",
    "        ret, t = time_it(lambda: fn(r1, r2))\n",
    "        returns.append(ret)\n",
    "        ts.append(t)"
   ],
   "metadata": {
    "collapsed": false,
    "pycharm": {
     "name": "#%%\n"
    }
   }
  },
  {
   "cell_type": "code",
   "execution_count": 118,
   "outputs": [
    {
     "name": "stdout",
     "output_type": "stream",
     "text": [
      "align_pymol 0.03743949174880981\n",
      "align_tm 0.04302718877792358\n",
      "align_tm_fast 0.022360396385192872\n",
      "align_us 0.04332980394363403\n",
      "align_us_fast 0.023163235187530516\n"
     ]
    }
   ],
   "source": [
    "for key, values in times.items():\n",
    "    print(key.__name__, np.asarray(values).mean())"
   ],
   "metadata": {
    "collapsed": false,
    "pycharm": {
     "name": "#%%\n"
    }
   }
  },
  {
   "cell_type": "code",
   "execution_count": 119,
   "outputs": [
    {
     "data": {
      "text/plain": "                   0          3     4\n1  2                                 \n1  53    align_pymol  10.135159  64.0\n   53       align_tm   5.620000  76.0\n   53  align_tm_fast   5.660000  78.0\n   53       align_us   5.620000  76.0\n   53  align_us_fast   5.660000  78.0\n...              ...        ...   ...\n99 40    align_pymol   9.243867  56.0\n   40       align_tm   5.060000  78.0\n   40  align_tm_fast   6.390000  79.0\n   40       align_us   5.060000  78.0\n   40  align_us_fast   6.390000  79.0\n\n[500 rows x 3 columns]",
      "text/html": "<div>\n<style scoped>\n    .dataframe tbody tr th:only-of-type {\n        vertical-align: middle;\n    }\n\n    .dataframe tbody tr th {\n        vertical-align: top;\n    }\n\n    .dataframe thead th {\n        text-align: right;\n    }\n</style>\n<table border=\"1\" class=\"dataframe\">\n  <thead>\n    <tr style=\"text-align: right;\">\n      <th></th>\n      <th></th>\n      <th>0</th>\n      <th>3</th>\n      <th>4</th>\n    </tr>\n    <tr>\n      <th>1</th>\n      <th>2</th>\n      <th></th>\n      <th></th>\n      <th></th>\n    </tr>\n  </thead>\n  <tbody>\n    <tr>\n      <th rowspan=\"5\" valign=\"top\">1</th>\n      <th>53</th>\n      <td>align_pymol</td>\n      <td>10.135159</td>\n      <td>64.0</td>\n    </tr>\n    <tr>\n      <th>53</th>\n      <td>align_tm</td>\n      <td>5.620000</td>\n      <td>76.0</td>\n    </tr>\n    <tr>\n      <th>53</th>\n      <td>align_tm_fast</td>\n      <td>5.660000</td>\n      <td>78.0</td>\n    </tr>\n    <tr>\n      <th>53</th>\n      <td>align_us</td>\n      <td>5.620000</td>\n      <td>76.0</td>\n    </tr>\n    <tr>\n      <th>53</th>\n      <td>align_us_fast</td>\n      <td>5.660000</td>\n      <td>78.0</td>\n    </tr>\n    <tr>\n      <th>...</th>\n      <th>...</th>\n      <td>...</td>\n      <td>...</td>\n      <td>...</td>\n    </tr>\n    <tr>\n      <th rowspan=\"5\" valign=\"top\">99</th>\n      <th>40</th>\n      <td>align_pymol</td>\n      <td>9.243867</td>\n      <td>56.0</td>\n    </tr>\n    <tr>\n      <th>40</th>\n      <td>align_tm</td>\n      <td>5.060000</td>\n      <td>78.0</td>\n    </tr>\n    <tr>\n      <th>40</th>\n      <td>align_tm_fast</td>\n      <td>6.390000</td>\n      <td>79.0</td>\n    </tr>\n    <tr>\n      <th>40</th>\n      <td>align_us</td>\n      <td>5.060000</td>\n      <td>78.0</td>\n    </tr>\n    <tr>\n      <th>40</th>\n      <td>align_us_fast</td>\n      <td>6.390000</td>\n      <td>79.0</td>\n    </tr>\n  </tbody>\n</table>\n<p>500 rows × 3 columns</p>\n</div>"
     },
     "execution_count": 119,
     "metadata": {},
     "output_type": "execute_result"
    }
   ],
   "source": [
    "df_rets = []\n",
    "for key, values in rets.items():\n",
    "    for (a,b),( rmsd, length) in zip(samples, values):\n",
    "        df_rets.append((key.__name__,a,b, rmsd,length))\n",
    "\n",
    "df_rets = pd.DataFrame(df_rets)\n",
    "df_rets.set_index(keys=[1,2]).sort_index()"
   ],
   "metadata": {
    "collapsed": false,
    "pycharm": {
     "name": "#%%\n"
    }
   }
  }
 ],
 "metadata": {
  "kernelspec": {
   "display_name": "Python 3",
   "language": "python",
   "name": "python3"
  },
  "language_info": {
   "codemirror_mode": {
    "name": "ipython",
    "version": 2
   },
   "file_extension": ".py",
   "mimetype": "text/x-python",
   "name": "python",
   "nbconvert_exporter": "python",
   "pygments_lexer": "ipython2",
   "version": "2.7.6"
  }
 },
 "nbformat": 4,
 "nbformat_minor": 0
}